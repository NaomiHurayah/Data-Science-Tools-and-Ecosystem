{
 "cells": [
  {
   "cell_type": "markdown",
   "id": "6ae5686b-90d4-490b-be01-25f8c2e92c7e",
   "metadata": {},
   "source": [
    "# Data Science Tools and Ecosystem"
   ]
  },
  {
   "cell_type": "markdown",
   "id": "1883f4bf-9a82-4c25-be8e-4f71ac07ca2f",
   "metadata": {},
   "source": [
    "In this notebook, Data Science Tools and Ecosystem are summarized."
   ]
  },
  {
   "cell_type": "markdown",
   "id": "9a9ddc91-cfc5-4777-ab12-d718461d237e",
   "metadata": {},
   "source": [
    "Some of the popular languages that Data Scientists use are:\n",
    "    1. Phyton\n",
    "    2. R\n",
    "    3. SQL"
   ]
  },
  {
   "cell_type": "markdown",
   "id": "c4cb21c0-242a-48c0-9075-e6f2c89bb43b",
   "metadata": {},
   "source": [
    "Some of the commonly used libraries used by Data Scientists include:\n",
    "    1. Pandas\n",
    "    2. Jupyter Notebook\n",
    "    3. NumPy"
   ]
  },
  {
   "cell_type": "markdown",
   "id": "fd17616e-784b-4c09-80c8-88b4d401e587",
   "metadata": {},
   "source": [
    "| Data Science Tools  |\n",
    "|---------------------|\n",
    "| JupyterLab | \n",
    "| Anaconda | \n",
    "| VS Code |"
   ]
  },
  {
   "cell_type": "markdown",
   "id": "8eb2dbff-1548-48fb-9b4f-d19bed84e12c",
   "metadata": {
    "tags": []
   },
   "source": [
    "## Below are a few examples of evaluating arithmetic expressions in Python\n",
    "11*11"
   ]
  },
  {
   "cell_type": "markdown",
   "id": "75ce8925-5314-42d8-beec-38bc0d38bc02",
   "metadata": {},
   "source": [
    "This a simple arithmetic expression to mutiply then add integers"
   ]
  },
  {
   "cell_type": "code",
   "execution_count": 14,
   "id": "7c0814d0-fb2e-41d8-a599-80542e6abd17",
   "metadata": {
    "tags": []
   },
   "outputs": [
    {
     "data": {
      "text/plain": [
       "17"
      ]
     },
     "execution_count": 14,
     "metadata": {},
     "output_type": "execute_result"
    }
   ],
   "source": [
    "(3*4)+5"
   ]
  },
  {
   "cell_type": "markdown",
   "id": "8d6df898-06e6-4adf-8fab-c0382d1e5989",
   "metadata": {},
   "source": [
    "This will convert 200 minutes to hours by diving by 60"
   ]
  },
  {
   "cell_type": "code",
   "execution_count": 18,
   "id": "920fecb9-dd2d-4b25-91a1-8fbb818b7ece",
   "metadata": {
    "tags": []
   },
   "outputs": [
    {
     "data": {
      "text/plain": [
       "3.3333333333333335"
      ]
     },
     "execution_count": 18,
     "metadata": {},
     "output_type": "execute_result"
    }
   ],
   "source": [
    "200/60/1"
   ]
  },
  {
   "cell_type": "markdown",
   "id": "df61b818-8b64-41af-bf61-9b57e4047bb3",
   "metadata": {},
   "source": [
    "## Objectives:"
   ]
  },
  {
   "cell_type": "markdown",
   "id": "5bc7797b-250b-4dfa-bf6b-67b46a52187a",
   "metadata": {},
   "source": [
    "List popular languages for Data Science\n",
    "<ul> \n",
    "    <li>Phyton</li>\n",
    "    <li>R</li>\n",
    "    <li>SQL</li>\n",
    "    <li>Julia</li>\n",
    "    <li>Scala</li>\n",
    "</ul>"
   ]
  },
  {
   "cell_type": "markdown",
   "id": "0a9d347d-a57e-44c5-9711-4db156556411",
   "metadata": {
    "tags": []
   },
   "source": [
    "## Author\n",
    "Naomi Hurayah Aden"
   ]
  },
  {
   "cell_type": "code",
   "execution_count": null,
   "id": "bc39ade5-45a3-43db-bf14-1697a1545fcb",
   "metadata": {},
   "outputs": [],
   "source": []
  }
 ],
 "metadata": {
  "kernelspec": {
   "display_name": "Python",
   "language": "python",
   "name": "conda-env-python-py"
  },
  "language_info": {
   "codemirror_mode": {
    "name": "ipython",
    "version": 3
   },
   "file_extension": ".py",
   "mimetype": "text/x-python",
   "name": "python",
   "nbconvert_exporter": "python",
   "pygments_lexer": "ipython3",
   "version": "3.7.12"
  }
 },
 "nbformat": 4,
 "nbformat_minor": 5
}
